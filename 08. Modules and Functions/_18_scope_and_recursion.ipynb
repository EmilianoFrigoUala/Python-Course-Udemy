{
 "metadata": {
  "language_info": {
   "codemirror_mode": {
    "name": "ipython",
    "version": 3
   },
   "file_extension": ".py",
   "mimetype": "text/x-python",
   "name": "python",
   "nbconvert_exporter": "python",
   "pygments_lexer": "ipython3",
   "version": "3.9.2"
  },
  "orig_nbformat": 4,
  "kernelspec": {
   "name": "python3",
   "display_name": "Python 3.9.2 64-bit"
  },
  "interpreter": {
   "hash": "aee8b7b246df8f9039afb4144a1f6fd8d2ca17a180786b69acc140d282b71a49"
  }
 },
 "nbformat": 4,
 "nbformat_minor": 2,
 "cells": [
  {
   "cell_type": "code",
   "execution_count": null,
   "metadata": {},
   "outputs": [],
   "source": [
    "# factorial function\n",
    "def fact(n):\n",
    "    \"\"\" Calculare n! iteratively \"\"\"\n",
    "    result = 1\n",
    "    if n > 1:\n",
    "        for f in range(2, n + 1):\n",
    "            result *= f\n",
    "    return result"
   ]
  },
  {
   "cell_type": "code",
   "execution_count": null,
   "metadata": {},
   "outputs": [],
   "source": [
    "for i in range(81):\n",
    "    print(f'Factorial of {i} equals to {fact(i)}')"
   ]
  },
  {
   "cell_type": "code",
   "execution_count": null,
   "metadata": {},
   "outputs": [],
   "source": [
    "def factorial(n):\n",
    "    # n! can also be defined as: n * (n-1)!\n",
    "    \"\"\" Calculate n! recursively \"\"\"\n",
    "    if n <= 1:\n",
    "        return 1\n",
    "    else:\n",
    "        return n * factorial(n-1)"
   ]
  },
  {
   "cell_type": "code",
   "execution_count": null,
   "metadata": {},
   "outputs": [],
   "source": [
    "for i in range(81):\n",
    "    print(f'Factorial of {i} equals to {factorial(i)}')"
   ]
  },
  {
   "cell_type": "code",
   "execution_count": null,
   "metadata": {},
   "outputs": [],
   "source": [
    "# fibonacci function - recursive\n",
    "def fib(n):\n",
    "    \"\"\" F(n) = F(n-1) + F(n-2) \"\"\"\n",
    "    if n < 2:\n",
    "        return n\n",
    "    else:\n",
    "        return fib(n-1) + fib(n-2)"
   ]
  },
  {
   "cell_type": "code",
   "execution_count": null,
   "metadata": {},
   "outputs": [],
   "source": [
    "# first attempt\n",
    "n = 36\n",
    "\n",
    "n1 = 1\n",
    "n2 = 1\n",
    "\n",
    "for i in range(n):\n",
    "    if i == 0:\n",
    "        print(0)\n",
    "    elif i == 1 or i == 2:\n",
    "        print(1)\n",
    "    else:\n",
    "        print(n1 + n2)\n",
    "        aux = n1\n",
    "        n1 = n2\n",
    "        n2 = aux + n2\n",
    "        "
   ]
  },
  {
   "cell_type": "code",
   "execution_count": 67,
   "metadata": {},
   "outputs": [],
   "source": [
    "def fibonacci(n):\n",
    "    n1 = 1\n",
    "    n2 = 1\n",
    "    \n",
    "    res = []\n",
    "\n",
    "    for i in range(n+1):\n",
    "        if i == 0:\n",
    "            res.append(0)\n",
    "        elif 0 <= i <= 2:\n",
    "            res.append(1)\n",
    "        else:\n",
    "            res.append(n1 + n2) \n",
    "            aux = n1\n",
    "            n1 = n2\n",
    "            n2 = aux + n2\n",
    "    return res"
   ]
  },
  {
   "cell_type": "code",
   "execution_count": 71,
   "metadata": {},
   "outputs": [
    {
     "output_type": "execute_result",
     "data": {
      "text/plain": [
       "[0, 1, 1, 2, 3, 5, 8, 13, 21, 34, 55]"
      ]
     },
     "metadata": {},
     "execution_count": 71
    }
   ],
   "source": [
    "fibonacci(10)"
   ]
  },
  {
   "cell_type": "code",
   "execution_count": null,
   "metadata": {},
   "outputs": [],
   "source": []
  }
 ]
}