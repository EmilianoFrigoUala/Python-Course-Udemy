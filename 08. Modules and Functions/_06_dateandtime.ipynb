{
 "cells": [
  {
   "cell_type": "code",
   "execution_count": 6,
   "metadata": {},
   "outputs": [
    {
     "name": "stdout",
     "output_type": "stream",
     "text": [
      "The epoch on this systen starts at Thu Jan  1 00:00:00 1970\n",
      "The current timezone is -03 with an offset of 10800\n",
      "Local time is 2021-05-12 20:38:43\n",
      "UTC time is 2021-05-12 23:38:43\n"
     ]
    }
   ],
   "source": [
    "import time\n",
    "\n",
    "print('The epoch on this systen starts at {}'.format(time.strftime('%c', time.gmtime(0))))\n",
    "\n",
    "print(f'The current timezone is {time.tzname[0]} with an offset of {time.timezone}')\n",
    "test = 3\n",
    "\n",
    "if time.daylight != 0:\n",
    "    print('\\tDaylight saving time is in effect for this location')\n",
    "    print(f'\\tThe DST timezone is {time.tzname[1]}')\n",
    "\n",
    "print('Local time is {}'.format(time.strftime('%Y-%m-%d %H:%M:%S', time.localtime())))\n",
    "print('UTC time is {}'.format(time.strftime('%Y-%m-%d %H:%M:%S', time.gmtime())))"
   ]
  }
 ],
 "metadata": {
  "interpreter": {
   "hash": "aee8b7b246df8f9039afb4144a1f6fd8d2ca17a180786b69acc140d282b71a49"
  },
  "kernelspec": {
   "display_name": "Python 3.9.2 64-bit",
   "name": "python3"
  },
  "language_info": {
   "codemirror_mode": {
    "name": "ipython",
    "version": 3
   },
   "file_extension": ".py",
   "mimetype": "text/x-python",
   "name": "python",
   "nbconvert_exporter": "python",
   "pygments_lexer": "ipython3",
   "version": "3.9.2"
  },
  "orig_nbformat": 2
 },
 "nbformat": 4,
 "nbformat_minor": 2
}